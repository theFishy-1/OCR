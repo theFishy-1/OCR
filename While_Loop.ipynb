{
  "cells": [
    {
      "cell_type": "markdown",
      "metadata": {
        "id": "view-in-github",
        "colab_type": "text"
      },
      "source": [
        "<a href=\"https://colab.research.google.com/github/theFishy-1/wyk-adyAI/blob/main/While_Loop.ipynb\" target=\"_parent\"><img src=\"https://colab.research.google.com/assets/colab-badge.svg\" alt=\"Open In Colab\"/></a>"
      ]
    },
    {
      "cell_type": "markdown",
      "id": "29fcf8b9",
      "metadata": {
        "id": "29fcf8b9"
      },
      "source": [
        "# While Loop executes repeatedly untill condition is met"
      ]
    },
    {
      "cell_type": "code",
      "execution_count": null,
      "id": "f270a178",
      "metadata": {
        "id": "f270a178"
      },
      "outputs": [],
      "source": [
        "x = 0\n",
        "\n",
        "while x < 20:\n",
        "\n",
        "    print(\"x is currently : \", x)   # This loop will go forever because nothing changing the x and x will always remain less than 10.\n"
      ]
    },
    {
      "cell_type": "code",
      "source": [],
      "metadata": {
        "id": "05miznMEpH8Z"
      },
      "id": "05miznMEpH8Z",
      "execution_count": null,
      "outputs": []
    },
    {
      "cell_type": "markdown",
      "id": "bc1ed91d",
      "metadata": {
        "id": "bc1ed91d"
      },
      "source": [
        "# Add increment operator"
      ]
    },
    {
      "cell_type": "code",
      "execution_count": null,
      "id": "3335d9d1",
      "metadata": {
        "id": "3335d9d1",
        "colab": {
          "base_uri": "https://localhost:8080/"
        },
        "outputId": "63d6d09d-2b80-4f06-c610-e4d9f38d3f2b"
      },
      "outputs": [
        {
          "output_type": "stream",
          "name": "stdout",
          "text": [
            "x is currently :  0\n",
            "x is currently :  1\n",
            "x is currently :  2\n",
            "x is currently :  3\n",
            "x is currently :  4\n",
            "x is currently :  5\n",
            "x is currently :  6\n",
            "x is currently :  7\n",
            "x is currently :  8\n",
            "x is currently :  9\n"
          ]
        }
      ],
      "source": [
        "x = 0\n",
        "\n",
        "while x < 10:\n",
        "\n",
        "    print(\"x is currently : \", x)\n",
        "\n",
        "    x += 1       # x = x + 1"
      ]
    },
    {
      "cell_type": "code",
      "source": [],
      "metadata": {
        "id": "hC0g9YDPpwMa"
      },
      "id": "hC0g9YDPpwMa",
      "execution_count": null,
      "outputs": []
    },
    {
      "cell_type": "code",
      "source": [],
      "metadata": {
        "id": "PVAg_FwQp3Cg"
      },
      "id": "PVAg_FwQp3Cg",
      "execution_count": null,
      "outputs": []
    },
    {
      "cell_type": "markdown",
      "source": [
        "# Another Example"
      ],
      "metadata": {
        "id": "mDQDyVOLpxsg"
      },
      "id": "mDQDyVOLpxsg"
    },
    {
      "cell_type": "code",
      "execution_count": null,
      "id": "ec129acd",
      "metadata": {
        "id": "ec129acd",
        "colab": {
          "base_uri": "https://localhost:8080/"
        },
        "outputId": "e3580fd8-99f8-4242-b59e-305eacc71ff9"
      },
      "outputs": [
        {
          "output_type": "stream",
          "name": "stdout",
          "text": [
            "0\n",
            "1\n",
            "2\n",
            "3\n",
            "4\n"
          ]
        }
      ],
      "source": [
        "count = 0\n",
        "\n",
        "while(count < 5):\n",
        "\n",
        "    print(count)\n",
        "\n",
        "    count += 1        # count = count + 1"
      ]
    },
    {
      "cell_type": "code",
      "source": [],
      "metadata": {
        "id": "n3IIklYJp1H5"
      },
      "id": "n3IIklYJp1H5",
      "execution_count": null,
      "outputs": []
    },
    {
      "cell_type": "code",
      "source": [],
      "metadata": {
        "id": "MRoyCf3up2Io"
      },
      "id": "MRoyCf3up2Io",
      "execution_count": null,
      "outputs": []
    },
    {
      "cell_type": "markdown",
      "id": "697c7453",
      "metadata": {
        "id": "697c7453"
      },
      "source": [
        "# Comparing two While Loops"
      ]
    },
    {
      "cell_type": "code",
      "execution_count": null,
      "id": "d2f8ffb4",
      "metadata": {
        "id": "d2f8ffb4",
        "colab": {
          "base_uri": "https://localhost:8080/"
        },
        "outputId": "91c9f4f3-7bd3-41a7-d75b-7910af4935da"
      },
      "outputs": [
        {
          "output_type": "stream",
          "name": "stdout",
          "text": [
            "1\n",
            "2\n",
            "3\n",
            "4\n",
            "5\n",
            " \n",
            " \n",
            "0\n",
            "1\n",
            "2\n",
            "3\n",
            "4\n"
          ]
        }
      ],
      "source": [
        "i = 0;\n",
        "while i < 5:    # The first while loop\n",
        "    i= i+1;\n",
        "    print(i)  # we are printing after increment\n",
        "\n",
        "print(\" \")\n",
        "print(\" \")\n",
        "\n",
        "i = 0;\n",
        "while i < 5:   # The second while loop\n",
        "    print(i)   # we are printing before increment\n",
        "    i= i+1;"
      ]
    },
    {
      "cell_type": "code",
      "source": [],
      "metadata": {
        "id": "HeO2XbvSp3xC"
      },
      "id": "HeO2XbvSp3xC",
      "execution_count": null,
      "outputs": []
    },
    {
      "cell_type": "code",
      "source": [],
      "metadata": {
        "id": "OucmnlxIp30o"
      },
      "id": "OucmnlxIp30o",
      "execution_count": null,
      "outputs": []
    },
    {
      "cell_type": "markdown",
      "id": "5e73b5ef",
      "metadata": {
        "id": "5e73b5ef"
      },
      "source": [
        "# Breaking the While Loop"
      ]
    },
    {
      "cell_type": "code",
      "execution_count": null,
      "id": "c9a4bdd4",
      "metadata": {
        "id": "c9a4bdd4",
        "colab": {
          "base_uri": "https://localhost:8080/"
        },
        "outputId": "298744cf-1dcf-4c6e-e193-e36bfa58f7c0"
      },
      "outputs": [
        {
          "output_type": "stream",
          "name": "stdout",
          "text": [
            "x is currently :  0\n",
            "x is still less than 10, adding 1 to x\n",
            " \n",
            "x is currently :  1\n",
            "x is still less than 10, adding 1 to x\n",
            " \n",
            "x is currently :  2\n",
            "x is still less than 10, adding 1 to x\n",
            " \n",
            "x equals 3\n"
          ]
        }
      ],
      "source": [
        "x = 0\n",
        "\n",
        "while x < 10:\n",
        "\n",
        "    print(\"x is currently : \",x)\n",
        "    print(\"x is still less than 10, adding 1 to x\")\n",
        "    x += 1\n",
        "    print(\" \")\n",
        "\n",
        "    if x == 3:\n",
        "        print('x equals 3')\n",
        "        break"
      ]
    },
    {
      "cell_type": "code",
      "source": [],
      "metadata": {
        "id": "klFbM4ylp4gZ"
      },
      "id": "klFbM4ylp4gZ",
      "execution_count": null,
      "outputs": []
    },
    {
      "cell_type": "code",
      "source": [],
      "metadata": {
        "id": "U8Mg7vNjp4ji"
      },
      "id": "U8Mg7vNjp4ji",
      "execution_count": null,
      "outputs": []
    },
    {
      "cell_type": "markdown",
      "id": "6119f94c",
      "metadata": {
        "id": "6119f94c"
      },
      "source": [
        "# For-While loop"
      ]
    },
    {
      "cell_type": "code",
      "execution_count": null,
      "id": "8e597438",
      "metadata": {
        "id": "8e597438",
        "colab": {
          "base_uri": "https://localhost:8080/"
        },
        "outputId": "a3552b8a-8d5d-44df-efa9-6c852e67d5b9"
      },
      "outputs": [
        {
          "output_type": "stream",
          "name": "stdout",
          "text": [
            "19\n",
            "11\n"
          ]
        }
      ],
      "source": [
        "for k in range(1,20):\n",
        "    i = 0\n",
        "    while i < 11:\n",
        "        i += 1\n",
        "print(k)\n",
        "print(i)\n"
      ]
    },
    {
      "cell_type": "code",
      "execution_count": null,
      "id": "243b4e1b",
      "metadata": {
        "id": "243b4e1b"
      },
      "outputs": [],
      "source": []
    }
  ],
  "metadata": {
    "kernelspec": {
      "display_name": "Python 3 (ipykernel)",
      "language": "python",
      "name": "python3"
    },
    "language_info": {
      "codemirror_mode": {
        "name": "ipython",
        "version": 3
      },
      "file_extension": ".py",
      "mimetype": "text/x-python",
      "name": "python",
      "nbconvert_exporter": "python",
      "pygments_lexer": "ipython3",
      "version": "3.9.7"
    },
    "colab": {
      "provenance": [],
      "include_colab_link": true
    }
  },
  "nbformat": 4,
  "nbformat_minor": 5
}